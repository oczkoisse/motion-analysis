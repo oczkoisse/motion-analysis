{
 "cells": [
  {
   "cell_type": "code",
   "execution_count": 2,
   "metadata": {
    "collapsed": true
   },
   "outputs": [],
   "source": [
    "import numpy as np\n",
    "\n",
    "# Returns a copy of data which is normalized around mean of spinal base point\n",
    "def normalize_spine_base(data):\n",
    "    b = np.copy(data)\n",
    "    spine = np.zeros(3)\n",
    "    for i in range(3):\n",
    "       spine[i] = np.mean(b[:, i])\n",
    "    m, n = b.shape\n",
    "    for i in range(n):\n",
    "       b[:, i] -= spine[i % 3]\n",
    "    return b\n",
    "\n",
    "# Pulls up torso skeleton data from a general skeleton file, and normalizes it using normalize_spine_data()\n",
    "def load_skeleton_data(filename):\n",
    "    data = np.loadtxt(filename, dtype='float', delimiter=',', skiprows=1, usecols=(9, 10, 11, 18, 19, 20, 27, 28, 29, 36, 37, 38, 45, 46, 47, 54, 55, 56, 63, 64, 65, 72, 73, 74, 81, 82, 83, 90, 91, 92, 99, 100, 101, 108, 109, 110, 189, 190, 191))\n",
    "    return normalize_spine_base(data)"
   ]
  },
  {
   "cell_type": "code",
   "execution_count": 4,
   "metadata": {
    "collapsed": false
   },
   "outputs": [],
   "source": [
    "n_data_1 = load_skeleton_data('test/head_nod/test1.csv')\n",
    "n_data_2 = load_skeleton_data('test/head_nod/test2.csv')"
   ]
  },
  {
   "cell_type": "code",
   "execution_count": 5,
   "metadata": {
    "collapsed": false
   },
   "outputs": [
    {
     "name": "stdout",
     "output_type": "stream",
     "text": [
      "(21, 39) (16, 39)\n"
     ]
    }
   ],
   "source": [
    "print(n_data_1.shape, n_data_2.shape)"
   ]
  },
  {
   "cell_type": "code",
   "execution_count": 6,
   "metadata": {
    "collapsed": true
   },
   "outputs": [],
   "source": [
    "from dtw import dtw"
   ]
  },
  {
   "cell_type": "code",
   "execution_count": null,
   "metadata": {
    "collapsed": true
   },
   "outputs": [],
   "source": []
  }
 ],
 "metadata": {
  "anaconda-cloud": {},
  "kernelspec": {
   "display_name": "Python [proposal]",
   "language": "python",
   "name": "Python [proposal]"
  },
  "language_info": {
   "codemirror_mode": {
    "name": "ipython",
    "version": 3
   },
   "file_extension": ".py",
   "mimetype": "text/x-python",
   "name": "python",
   "nbconvert_exporter": "python",
   "pygments_lexer": "ipython3",
   "version": "3.5.2"
  }
 },
 "nbformat": 4,
 "nbformat_minor": 0
}
